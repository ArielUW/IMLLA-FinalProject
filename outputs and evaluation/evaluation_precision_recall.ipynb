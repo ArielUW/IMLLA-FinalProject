{
  "nbformat": 4,
  "nbformat_minor": 0,
  "metadata": {
    "colab": {
      "provenance": []
    },
    "kernelspec": {
      "name": "python3",
      "display_name": "Python 3"
    },
    "language_info": {
      "name": "python"
    }
  },
  "cells": [
    {
      "cell_type": "code",
      "execution_count": 1,
      "metadata": {
        "colab": {
          "base_uri": "https://localhost:8080/"
        },
        "id": "mzyZhVR9JSgl",
        "outputId": "d625a9ff-e13d-448b-cc39-449918ed7779"
      },
      "outputs": [
        {
          "output_type": "stream",
          "name": "stdout",
          "text": [
            "Mounted at /content/drive\n"
          ]
        }
      ],
      "source": [
        "from google.colab import drive\n",
        "drive.mount('/content/drive')"
      ]
    },
    {
      "cell_type": "code",
      "source": [
        "import pandas as pd\n"
      ],
      "metadata": {
        "id": "-i_XJ_e3JsEy"
      },
      "execution_count": 3,
      "outputs": []
    },
    {
      "cell_type": "code",
      "source": [
        "test_outputs = pd.read_csv('/content/drive/MyDrive/ML_class/generated_job_titles.csv')"
      ],
      "metadata": {
        "id": "OVYKY2DDKKEj"
      },
      "execution_count": 6,
      "outputs": []
    },
    {
      "cell_type": "code",
      "source": [
        "test_outputs.columns"
      ],
      "metadata": {
        "colab": {
          "base_uri": "https://localhost:8080/"
        },
        "id": "HMN-wyFVLgfu",
        "outputId": "5f25e76b-4489-491d-beeb-e3ddd5350811"
      },
      "execution_count": 7,
      "outputs": [
        {
          "output_type": "execute_result",
          "data": {
            "text/plain": [
              "Index(['type', 'source_sentence', 'target_sentence', 'generated_text',\n",
              "       'score'],\n",
              "      dtype='object')"
            ]
          },
          "metadata": {},
          "execution_count": 7
        }
      ]
    },
    {
      "cell_type": "code",
      "source": [
        "def calculate_precision(df):\n",
        "  true_positives = df2 = len(df[(df[\"type\"]==1) &\n",
        "             (df[\"score\"]==1)])\n",
        "  false_positives = len(df[(df[\"type\"]==0) &\n",
        "             (df[\"score\"]==0)])\n",
        "  return true_positives/(true_positives+false_positives)\n",
        "\n",
        "def calculate_recall(df):\n",
        "  true_positives = df2 = len(df[(df[\"type\"]==1) &\n",
        "             (df[\"score\"]==1)])\n",
        "  all_type_ones = len(df[df[\"type\"]==1])\n",
        "  return true_positives/all_type_ones\n"
      ],
      "metadata": {
        "id": "fQdNMUdRLk1U"
      },
      "execution_count": 8,
      "outputs": []
    },
    {
      "cell_type": "code",
      "source": [
        "precision_value = calculate_precision(test_outputs)\n",
        "recall_value = calculate_recall(test_outputs)"
      ],
      "metadata": {
        "id": "gdz-tzGmNIXz"
      },
      "execution_count": 9,
      "outputs": []
    },
    {
      "cell_type": "code",
      "source": [
        "precision_value"
      ],
      "metadata": {
        "colab": {
          "base_uri": "https://localhost:8080/"
        },
        "id": "CAJSm-aZNNIP",
        "outputId": "890803fb-31ba-4b6e-cd0e-969b19002901"
      },
      "execution_count": 10,
      "outputs": [
        {
          "output_type": "execute_result",
          "data": {
            "text/plain": [
              "0.9833333333333333"
            ]
          },
          "metadata": {},
          "execution_count": 10
        }
      ]
    },
    {
      "cell_type": "code",
      "source": [
        "recall_value"
      ],
      "metadata": {
        "colab": {
          "base_uri": "https://localhost:8080/"
        },
        "id": "-UK_LTTaNOni",
        "outputId": "ab37b7d7-1ae7-4604-abf0-d7dcb9a82eef"
      },
      "execution_count": 11,
      "outputs": [
        {
          "output_type": "execute_result",
          "data": {
            "text/plain": [
              "0.472"
            ]
          },
          "metadata": {},
          "execution_count": 11
        }
      ]
    }
  ]
}