{
  "nbformat": 4,
  "nbformat_minor": 0,
  "metadata": {
    "colab": {
      "provenance": []
    },
    "kernelspec": {
      "name": "python3",
      "display_name": "Python 3"
    },
    "language_info": {
      "name": "python"
    }
  },
  "cells": [
    {
      "cell_type": "code",
      "execution_count": 1,
      "metadata": {
        "colab": {
          "base_uri": "https://localhost:8080/"
        },
        "id": "PBkI7ooOX510",
        "outputId": "ea0afaac-d93c-4442-a71d-35559dec4e28"
      },
      "outputs": [
        {
          "output_type": "stream",
          "name": "stdout",
          "text": [
            "Mounted at /content/drive\n"
          ]
        }
      ],
      "source": [
        "from google.colab import drive\n",
        "drive.mount('/content/drive')"
      ]
    },
    {
      "cell_type": "code",
      "source": [
        "import json\n",
        "import re"
      ],
      "metadata": {
        "id": "1f3z-rIHYKhi"
      },
      "execution_count": 12,
      "outputs": []
    },
    {
      "cell_type": "code",
      "source": [
        "# Open and read the JSON file\n",
        "with open('/content/drive/MyDrive/ML_class/corpus.json', 'r') as file:\n",
        "    data = json.load(file)"
      ],
      "metadata": {
        "id": "gInqSG_KYMcK"
      },
      "execution_count": 3,
      "outputs": []
    },
    {
      "cell_type": "code",
      "source": [
        "data.keys()"
      ],
      "metadata": {
        "colab": {
          "base_uri": "https://localhost:8080/"
        },
        "id": "vqMzJiDVamdk",
        "outputId": "0302761c-0a70-4d35-cc93-fd9773678cd5"
      },
      "execution_count": 11,
      "outputs": [
        {
          "output_type": "execute_result",
          "data": {
            "text/plain": [
              "dict_keys(['corpus'])"
            ]
          },
          "metadata": {},
          "execution_count": 11
        }
      ]
    },
    {
      "cell_type": "code",
      "source": [
        "\n",
        "if(True and re.search(\"asdasd\", \"frefe\")):\n",
        "  print()\n",
        "else:\n",
        "  print(\"rozumiem ze None jest 'falsy'\")\n",
        "\n",
        "test = True and re.search('asd', 'asd')\n",
        "if(test):\n",
        "  print('rozumiem ze Match jest \"truthy\"')"
      ],
      "metadata": {
        "colab": {
          "base_uri": "https://localhost:8080/"
        },
        "id": "-1j7dVM4fJO3",
        "outputId": "00fd1167-f06b-4003-c887-11e967060ce9"
      },
      "execution_count": 28,
      "outputs": [
        {
          "output_type": "stream",
          "name": "stdout",
          "text": [
            "rozumiem ze None jest 'falsy'\n",
            "rozumiem ze Match jest \"truthy\"\n"
          ]
        }
      ]
    },
    {
      "cell_type": "code",
      "source": [
        "def is_interesting_token(sent, ending):\n",
        "  result = False\n",
        "  for token in sent['tokens']:\n",
        "    if token['pos'] == 'SUBST' and re.search((r\".*\"+ ending + r\"\\b\"), token[\"lemma\"]):\n",
        "      result = token\n",
        "  return result"
      ],
      "metadata": {
        "id": "SI7dtQmymICJ"
      },
      "execution_count": 30,
      "outputs": []
    },
    {
      "cell_type": "code",
      "source": [
        "def search_job_by_ending(ending):\n",
        "  valid_examples = []\n",
        "  for text in data['corpus']:\n",
        "    for sent in text['sents']:\n",
        "      interesting_token = is_interesting_token(sent, ending)\n",
        "      if interesting_token:\n",
        "        valid_examples.append({'sent': sent['raw_sentence'],\n",
        "                               'found_word_lemma': interesting_token['lemma'],\n",
        "                               'found_word_raw': interesting_token['text']})\n",
        "  return valid_examples\n",
        ""
      ],
      "metadata": {
        "id": "nL7nWl6cYuge"
      },
      "execution_count": 35,
      "outputs": []
    },
    {
      "cell_type": "code",
      "source": [
        "test = search_job_by_ending('ystka')"
      ],
      "metadata": {
        "id": "TUtm08Q8oLBm"
      },
      "execution_count": 38,
      "outputs": []
    },
    {
      "cell_type": "code",
      "source": [
        "test"
      ],
      "metadata": {
        "colab": {
          "base_uri": "https://localhost:8080/"
        },
        "id": "hwQwxxrSoZOd",
        "outputId": "9469530d-62c8-4a91-c4d7-707afeaee465"
      },
      "execution_count": 39,
      "outputs": [
        {
          "output_type": "execute_result",
          "data": {
            "text/plain": [
              "[{'sent': 'Tegoroczna maturzystka sopockiego ogólniaka chciałaby po skończeniu szkoły średniej dostać się na Uniwersytet Gdański.',\n",
              "  'found_word_lemma': 'maturzystka',\n",
              "  'found_word_raw': 'maturzystka'},\n",
              " {'sent': 'W ostatni weekend w górach zginęło dwoje młodych ludzi: turystka z Krakowa i taternik z Warszawy.',\n",
              "  'found_word_lemma': 'turystka',\n",
              "  'found_word_raw': 'turystka'},\n",
              " {'sent': 'W zbiorach muzealnych, w tym w Muzeum Narodowym w Warszawie znajdują się jedynie pojedyncze prace artystki.',\n",
              "  'found_word_lemma': 'artystka',\n",
              "  'found_word_raw': 'artystki'},\n",
              " {'sent': 'Kelland domaga się przeprowadzenia \"gruntownej czystki\" w Partii Republikańskiej i odsunięcia od władzy \"liberalniejszych\" elementów.',\n",
              "  'found_word_lemma': 'czystka',\n",
              "  'found_word_raw': 'czystki'},\n",
              " {'sent': '(więcej w Trybunie) Czy po czystce wśród ambasadorów, których odwołano z powodu \"utraty zaufania\", a konkretnie współpracy ze służbami specjalnymi, nastąpi ciąg dalszy zwolnień w MSZ?',\n",
              "  'found_word_lemma': 'czystka',\n",
              "  'found_word_raw': 'czystce'},\n",
              " {'sent': 'Później uznano, że owo rozliczanie się z ludźmi \"Wiesława\" przypominało klasyczną  czystkę partyjną, od jakiej ludzie partii po październiku odwykli.',\n",
              "  'found_word_lemma': 'czystka',\n",
              "  'found_word_raw': 'czystkę'},\n",
              " {'sent': 'Jestem zeszłoroczną maturzystką.',\n",
              "  'found_word_lemma': 'maturzystka',\n",
              "  'found_word_raw': 'maturzystką'},\n",
              " {'sent': 'W ramach czystki z Warszawskiego Ośrodka Telewizyjnego zwolniono 28 osób.',\n",
              "  'found_word_lemma': 'czystka',\n",
              "  'found_word_raw': 'czystki'},\n",
              " {'sent': 'Artystka, jak plotki głoszą, dała historycznej \"S\" rabat i zaśpiewała za jedyne 30 tys. zetów.',\n",
              "  'found_word_lemma': 'artystka',\n",
              "  'found_word_raw': 'Artystka'},\n",
              " {'sent': 'Występ charytatywny zaproponowały artystce władze zakładu karnego.',\n",
              "  'found_word_lemma': 'artystka',\n",
              "  'found_word_raw': 'artystce'},\n",
              " {'sent': \"Makijaż z okładki: Makijażystka Annie Ing użyła kosmetyków firmy L'Oreal.\",\n",
              "  'found_word_lemma': 'Makijażystka',\n",
              "  'found_word_raw': 'Makijażystka'},\n",
              " {'sent': 'Dominika, masażystka, 30 lat: - Być może będę mogła urodzić za dwa lata, kiedy z macierzyńskiego wróci koleżanka, która uzgodniła z szefową, że może teraz zachodzić w ciążę.',\n",
              "  'found_word_lemma': 'masażystka',\n",
              "  'found_word_raw': 'masażystka'},\n",
              " {'sent': 'a w studio już z nami nasz gość Zofia Nawrocka koordynatorka projektu zębatka i członkini kolektywu UFA witamy – witam – yyy yy może tak to jest warszawski projekt tak czyli yyy generalnie zwracamy się na razie do warszawskich rowerzystek – rowerzystek ?',\n",
              "  'found_word_lemma': 'rowerzystka',\n",
              "  'found_word_raw': 'rowerzystek'},\n",
              " {'sent': 'Mało kto w USA ma ochotę czytać zwierzenia byłej stypendystki Białego Domu, które przez przeszło rok Amerykanie mieli na co dzień w telewizji i prasie.',\n",
              "  'found_word_lemma': 'stypendystka',\n",
              "  'found_word_raw': 'stypendystki'},\n",
              " {'sent': '12 czerwca podczas zejścia z Zawratu poślizgnęła się na śniegu i spadła Zawratowym Żlebem 22-letnia turystka z Wrocławia.',\n",
              "  'found_word_lemma': 'turystka',\n",
              "  'found_word_raw': 'turystka'},\n",
              " {'sent': '13 czerwca w rejonie przełęczy w Grzybowcu złamała nogę 63-letnia turystka z Radomia.',\n",
              "  'found_word_lemma': 'turystka',\n",
              "  'found_word_raw': 'turystka'},\n",
              " {'sent': 'Jako turystka.',\n",
              "  'found_word_lemma': 'turystka',\n",
              "  'found_word_raw': 'turystka'},\n",
              " {'sent': 'Uciekał od wysokiej burty i przez kilka dni nie pozwalał się zbliżyć na odległość skutecznego rzutu błystką.',\n",
              "  'found_word_lemma': 'błystka',\n",
              "  'found_word_raw': 'błystką'},\n",
              " {'sent': 'Teraz żałujemy, że nie działaliśmy wcześniej, nie uczyniliśmy niczego, żeby zapobiec etnicznym czystkom, które nieraz przypominały idee Hitlera.',\n",
              "  'found_word_lemma': 'czystka',\n",
              "  'found_word_raw': 'czystkom'},\n",
              " {'sent': 'Nie przeprowadził etnicznych czystek, nawet w policji i prasie.',\n",
              "  'found_word_lemma': 'czystka',\n",
              "  'found_word_raw': 'czystek'},\n",
              " {'sent': 'Basia Kruszewska, artystka grafik i szefowa gdańskiego oddziału Związku Polskich Artystów Plastyków, jest najbardziej wziętą organizatorką przyjęć w Trójmieście.',\n",
              "  'found_word_lemma': 'artystka',\n",
              "  'found_word_raw': 'artystka'},\n",
              " {'sent': 'Utalentowana artystka zachwyciła wszystkich, choć znalazł się mężczyzna, który niecelnie rzucał w nią jajkami.',\n",
              "  'found_word_lemma': 'artystka',\n",
              "  'found_word_raw': 'artystka'},\n",
              " {'sent': 'był taki układ to myślę że też by się cieszyła bo arę groszy by jej wpadło skoro też była modystką to..',\n",
              "  'found_word_lemma': 'modystka',\n",
              "  'found_word_raw': 'modystką'},\n",
              " {'sent': 'Dwanaście pięter wyżej odlepiła nos od szyby mała blondynka, Asia, stażystka w \"Bazarze Warszawskim\".',\n",
              "  'found_word_lemma': 'stażystka',\n",
              "  'found_word_raw': 'stażystka'},\n",
              " {'sent': 'Artystka zażądała czarnej kotary i profesjonalnego oświetlenia.',\n",
              "  'found_word_lemma': 'artystka',\n",
              "  'found_word_raw': 'Artystka'},\n",
              " {'sent': 'Jadwiga Lipkowska, jedyna żyjąca maturzystka z 1939 roku, przysłała list z Warszawy.',\n",
              "  'found_word_lemma': 'maturzystka',\n",
              "  'found_word_raw': 'maturzystka'},\n",
              " {'sent': '– artystki jakieś..',\n",
              "  'found_word_lemma': 'artystka',\n",
              "  'found_word_raw': 'artystki'},\n",
              " {'sent': 'Jednak główną rolę w pracy nad brzmieniem płyty odegrały gitarzystka Wen d y Melvoin i grająca na instrumentach klawiszowych Lisa Coleman.',\n",
              "  'found_word_lemma': 'gitarzystka',\n",
              "  'found_word_raw': 'gitarzystka'},\n",
              " {'sent': 'Spośród licznych kocich indywidualności, które przewinęły się przez mój dom, z całą pewnością można by wyłuskać paru rozbójników, kilku wichrzycieli i ze dwie terrorystki.',\n",
              "  'found_word_lemma': 'terrorystka',\n",
              "  'found_word_raw': 'terrorystki'}]"
            ]
          },
          "metadata": {},
          "execution_count": 39
        }
      ]
    }
  ]
}